{
 "cells": [
  {
   "cell_type": "markdown",
   "id": "a1d086db",
   "metadata": {},
   "source": [
    "# Functions"
   ]
  },
  {
   "cell_type": "markdown",
   "id": "69cfebd4",
   "metadata": {},
   "source": [
    "- When programming, a function is a reusable piece of code. We typically write functions to encapsulate logic that we want to repeat in different circumstances. Usually, repeated calls to functions have different inputs and calculate differently based on those different inputs. It is possible for functions to access data not included in their inputs, and even to have functions with no inputs, but our focus will be on functions which take inputs that determine the computations and calculations. \n",
    "- Functions in programming languages are named after the mathematical concept but are more general since they run whatever code you want and are not required to return an output."
   ]
  },
  {
   "cell_type": "code",
   "execution_count": 9,
   "id": "f7396543",
   "metadata": {},
   "outputs": [],
   "source": [
    "def check_sweet(num_kumquats, num_raspberries):\n",
    "    print(\"checking sweetness\") # delete after testing\n",
    "    return num_kumquats + num_raspberries > 2 \n",
    "\n",
    "# This function check_sweet prints out the message “checking sweetness,” and then returns True if and only if the total number of kumquats and raspberries is more than two. Your tastes may vary.\n",
    "# The function check_sweet has two statements in it: the call to the print function and the return statement."
   ]
  }
 ],
 "metadata": {
  "kernelspec": {
   "display_name": "Python 3",
   "language": "python",
   "name": "python3"
  },
  "language_info": {
   "codemirror_mode": {
    "name": "ipython",
    "version": 3
   },
   "file_extension": ".py",
   "mimetype": "text/x-python",
   "name": "python",
   "nbconvert_exporter": "python",
   "pygments_lexer": "ipython3",
   "version": "3.12.1"
  }
 },
 "nbformat": 4,
 "nbformat_minor": 5
}
