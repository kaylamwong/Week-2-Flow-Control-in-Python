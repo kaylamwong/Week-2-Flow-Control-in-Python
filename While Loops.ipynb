{
 "cells": [
  {
   "cell_type": "markdown",
   "id": "1e6529b3",
   "metadata": {},
   "source": [
    "# While Loops"
   ]
  },
  {
   "cell_type": "markdown",
   "id": "6d68388a",
   "metadata": {},
   "source": [
    "- Control flow statement in Python that allows a block of code to be executed repeatedly as long as a specified condition remains True.\n",
    "- It's used when you don't know exactly how many times you need to loop, but you know the condition that must be met to stop the repetition.\n",
    "- While loops are a simpler loop construct than for loops. while loops repeat until the condition tested fails\n",
    "- If it is also important to know the position in the list, Python provides a function called enumerate that will iterate over a list (or other iterable) and return pairs of index and value."
   ]
  }
 ],
 "metadata": {
  "language_info": {
   "name": "python"
  }
 },
 "nbformat": 4,
 "nbformat_minor": 5
}
