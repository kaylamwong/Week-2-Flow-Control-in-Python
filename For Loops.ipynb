{
 "cells": [
  {
   "cell_type": "markdown",
   "id": "744709b4",
   "metadata": {},
   "source": [
    "# For Loops "
   ]
  },
  {
   "cell_type": "markdown",
   "id": "c6692411",
   "metadata": {},
   "source": [
    "- Iterate over a sequence (like a list, dictionary, tuple, set, or string) or any other iteraable object \n",
    "- Executes a block of code once for each item in that sequence \n",
    "- Perform repetitive tasks when you know the number of iterations or the items you want to process \n"
   ]
  },
  {
   "cell_type": "code",
   "execution_count": 1,
   "id": "3222d697",
   "metadata": {},
   "outputs": [
    {
     "ename": "NameError",
     "evalue": "name 'magic' is not defined",
     "output_type": "error",
     "traceback": [
      "\u001b[31m---------------------------------------------------------------------------\u001b[39m",
      "\u001b[31mNameError\u001b[39m                                 Traceback (most recent call last)",
      "\u001b[36mCell\u001b[39m\u001b[36m \u001b[39m\u001b[32mIn[1]\u001b[39m\u001b[32m, line 1\u001b[39m\n\u001b[32m----> \u001b[39m\u001b[32m1\u001b[39m \u001b[38;5;28;01mfor\u001b[39;00m x \u001b[38;5;129;01min\u001b[39;00m \u001b[43mmagic\u001b[49m:\n\u001b[32m      2\u001b[39m    do_something_useful(x)\n",
      "\u001b[31mNameError\u001b[39m: name 'magic' is not defined"
     ]
    }
   ],
   "source": [
    "for x in magic:\n",
    "   do_something_useful(x)"
   ]
  },
  {
   "cell_type": "markdown",
   "id": "7dd5c4c9",
   "metadata": {},
   "source": [
    "- What should you use a for loop for? for loops are used whenever you want to repeat substantially similar work for a bunch of data. \n",
    "- In some cases, you may want to skip to the next item in a for loop or stop the for loop entirely. The continue and break keywords let you do that.\n",
    "\n"
   ]
  },
  {
   "cell_type": "code",
   "execution_count": 2,
   "id": "665c05fd",
   "metadata": {},
   "outputs": [
    {
     "ename": "NameError",
     "evalue": "name 'magic' is not defined",
     "output_type": "error",
     "traceback": [
      "\u001b[31m---------------------------------------------------------------------------\u001b[39m",
      "\u001b[31mNameError\u001b[39m                                 Traceback (most recent call last)",
      "\u001b[36mCell\u001b[39m\u001b[36m \u001b[39m\u001b[32mIn[2]\u001b[39m\u001b[32m, line 1\u001b[39m\n\u001b[32m----> \u001b[39m\u001b[32m1\u001b[39m \u001b[38;5;28;01mfor\u001b[39;00m x \u001b[38;5;129;01min\u001b[39;00m \u001b[43mmagic\u001b[49m:\n\u001b[32m      2\u001b[39m     \u001b[38;5;28;01mif\u001b[39;00m check_for_data_problem(x):\n\u001b[32m      3\u001b[39m         \u001b[38;5;28;01mcontinue\u001b[39;00m\n",
      "\u001b[31mNameError\u001b[39m: name 'magic' is not defined"
     ]
    }
   ],
   "source": [
    "for x in magic:\n",
    "    if check_for_data_problem(x):\n",
    "        continue\n",
    " \n",
    "    do_something_useful(x)\n",
    "    if check_job_done():\n",
    "        break"
   ]
  },
  {
   "cell_type": "markdown",
   "id": "0e86bf1a",
   "metadata": {},
   "source": [
    "- If you want to repeat code a given number of times, use a for loop with range()."
   ]
  },
  {
   "cell_type": "code",
   "execution_count": 4,
   "id": "f5a20afc",
   "metadata": {},
   "outputs": [],
   "source": [
    "# compute product from 1 to 10\n",
    "product = 1\n",
    "for n in range(1, 11):\n",
    "   product *= n"
   ]
  }
 ],
 "metadata": {
  "kernelspec": {
   "display_name": "Python 3",
   "language": "python",
   "name": "python3"
  },
  "language_info": {
   "codemirror_mode": {
    "name": "ipython",
    "version": 3
   },
   "file_extension": ".py",
   "mimetype": "text/x-python",
   "name": "python",
   "nbconvert_exporter": "python",
   "pygments_lexer": "ipython3",
   "version": "3.12.1"
  }
 },
 "nbformat": 4,
 "nbformat_minor": 5
}
