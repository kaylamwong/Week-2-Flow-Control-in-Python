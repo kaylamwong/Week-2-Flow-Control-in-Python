{
 "cells": [
  {
   "cell_type": "markdown",
   "id": "e2647fae",
   "metadata": {},
   "source": [
    "# Control Flow\n",
    "\n",
    "- You can execute certain code blocks conditionally and/or repeatedly with control flow"
   ]
  },
  {
   "cell_type": "markdown",
   "id": "a90f6606",
   "metadata": {},
   "source": [
    "## Conditional Statements: if - elif - else: "
   ]
  },
  {
   "cell_type": "markdown",
   "id": "7fc05225",
   "metadata": {},
   "source": [
    "- Conditional statements, often referred to as if-then statements, allow the programmer to execute certain pieces of code depending on some Boolean condition. "
   ]
  },
  {
   "cell_type": "code",
   "execution_count": 2,
   "id": "48ecee67",
   "metadata": {},
   "outputs": [
    {
     "name": "stdout",
     "output_type": "stream",
     "text": [
      "-15 is negative\n"
     ]
    }
   ],
   "source": [
    "x = -15\n",
    "\n",
    "if x == 0:\n",
    "    print(x, \"is zero\")\n",
    "elif x > 0:\n",
    "    print(x, \"is positive\")\n",
    "elif x < 0:\n",
    "    print(x, \"is negative\")\n",
    "else:\n",
    "    print(x, \"is unlike anything I've ever seen...\")"
   ]
  },
  {
   "cell_type": "markdown",
   "id": "d5fedcc3",
   "metadata": {},
   "source": [
    "## for loops"
   ]
  },
  {
   "cell_type": "markdown",
   "id": "6cceeed2",
   "metadata": {},
   "source": [
    "- Loops in Python are a way to repeatedly execute some code statement"
   ]
  },
  {
   "cell_type": "code",
   "execution_count": 3,
   "id": "7c51abef",
   "metadata": {},
   "outputs": [
    {
     "name": "stdout",
     "output_type": "stream",
     "text": [
      "2 3 5 7 "
     ]
    }
   ],
   "source": [
    "for N in [2, 3, 5, 7]:\n",
    "    print(N, end=' ') # print all on same line"
   ]
  },
  {
   "cell_type": "markdown",
   "id": "c37624ee",
   "metadata": {},
   "source": [
    "- Notice the simplicity of the for loop: we specify the variable we want to use, the sequence we want to loop over, and use the \"in\" operator to link them together in an intuitive and readable way. More precisely, the object to the right of the \"in\" can be any Python iterator. An iterator can be thought of as a generalized sequence"
   ]
  },
  {
   "cell_type": "markdown",
   "id": "78ca138f",
   "metadata": {},
   "source": [
    "- One of the most commonly-used iterators in Python is the range object, which generates a sequence of numbers:"
   ]
  },
  {
   "cell_type": "code",
   "execution_count": 4,
   "id": "814877f0",
   "metadata": {},
   "outputs": [
    {
     "name": "stdout",
     "output_type": "stream",
     "text": [
      "0 1 2 3 4 5 6 7 8 9 "
     ]
    }
   ],
   "source": [
    "for i in range(10):\n",
    "    print(i, end=' ')"
   ]
  },
  {
   "cell_type": "markdown",
   "id": "14b8a171",
   "metadata": {},
   "source": [
    "- Note that the range starts at zero by default, and that by convention the top of the range is not included in the output. "
   ]
  },
  {
   "cell_type": "code",
   "execution_count": 5,
   "id": "5f875f2e",
   "metadata": {},
   "outputs": [
    {
     "data": {
      "text/plain": [
       "[5, 6, 7, 8, 9]"
      ]
     },
     "execution_count": 5,
     "metadata": {},
     "output_type": "execute_result"
    }
   ],
   "source": [
    "# range from 5 to 10\n",
    "list(range(5, 10))"
   ]
  },
  {
   "cell_type": "code",
   "execution_count": 7,
   "id": "8b98d7c7",
   "metadata": {},
   "outputs": [
    {
     "data": {
      "text/plain": [
       "[0, 2, 4, 6, 8]"
      ]
     },
     "execution_count": 7,
     "metadata": {},
     "output_type": "execute_result"
    }
   ],
   "source": [
    "# range from 0 to 10 by 2\n",
    "list(range(0, 10, 2))"
   ]
  },
  {
   "cell_type": "markdown",
   "id": "8c938cf6",
   "metadata": {},
   "source": [
    "## while loops "
   ]
  },
  {
   "cell_type": "markdown",
   "id": "450e2c5e",
   "metadata": {},
   "source": [
    "- Iterates until some condition is met "
   ]
  },
  {
   "cell_type": "code",
   "execution_count": 10,
   "id": "1ac008f1",
   "metadata": {},
   "outputs": [
    {
     "name": "stdout",
     "output_type": "stream",
     "text": [
      "0 1 2 3 4 5 6 7 8 9 "
     ]
    }
   ],
   "source": [
    "i = 0\n",
    "while i < 10:\n",
    "    print(i, end=' ')\n",
    "    i += 1 #This is the line that makes the loop finite (it eventually makes i=10)"
   ]
  },
  {
   "cell_type": "markdown",
   "id": "3fdde0bb",
   "metadata": {},
   "source": [
    "- The argument of the while loop is evaluated as a boolean statement, and the loop is executed until the statement evaluates to False."
   ]
  },
  {
   "cell_type": "markdown",
   "id": "7d0b3528",
   "metadata": {},
   "source": [
    "## break and continue: Fine-Tuning Your Loops "
   ]
  },
  {
   "cell_type": "markdown",
   "id": "c0dc77f2",
   "metadata": {},
   "source": [
    "- The break statement breaks-out of the loop entirely\n",
    "- The continue statement skips the remainder of the current loop, and goes to the next iteration"
   ]
  },
  {
   "cell_type": "code",
   "execution_count": 11,
   "id": "23e96e88",
   "metadata": {},
   "outputs": [
    {
     "name": "stdout",
     "output_type": "stream",
     "text": [
      "1 3 5 7 9 11 13 15 17 19 "
     ]
    }
   ],
   "source": [
    "#Example of Continue Statement: \n",
    "\n",
    "for n in range(20):\n",
    "    # if the remainder of n / 2 is 0, skip the rest of the loop\n",
    "    if n % 2 == 0:\n",
    "        continue\n",
    "    print(n, end=' ')"
   ]
  },
  {
   "cell_type": "code",
   "execution_count": 12,
   "id": "75b848f0",
   "metadata": {},
   "outputs": [
    {
     "name": "stdout",
     "output_type": "stream",
     "text": [
      "[1, 1, 2, 3, 5, 8, 13, 21, 34, 55, 89]\n"
     ]
    }
   ],
   "source": [
    "#Example of Break Statement: \n",
    "\n",
    "a, b = 0, 1\n",
    "amax = 100\n",
    "L = []\n",
    "\n",
    "while True:\n",
    "    (a, b) = (b, a + b)\n",
    "    if a > amax:\n",
    "        break\n",
    "    L.append(a)\n",
    "\n",
    "print(L)"
   ]
  },
  {
   "cell_type": "markdown",
   "id": "48362507",
   "metadata": {},
   "source": [
    "## Loops with an else Block "
   ]
  },
  {
   "cell_type": "markdown",
   "id": "d135253c",
   "metadata": {},
   "source": [
    "- One rarely used pattern available in Python is the else statement as part of a for or while loop. We discussed the else block earlier: it executes if all the if and elif statements evaluate to False. The loop-else is perhaps one of the more confusingly-named statements in Python; I prefer to think of it as a nobreak statement: that is, the else block is executed only if the loop ends naturally, without encountering a break statement."
   ]
  },
  {
   "cell_type": "code",
   "execution_count": 14,
   "id": "28cb4b40",
   "metadata": {},
   "outputs": [
    {
     "name": "stdout",
     "output_type": "stream",
     "text": [
      "[2, 3, 5, 7, 11, 13, 17, 19, 23, 29]\n"
     ]
    }
   ],
   "source": [
    "#Sieve of Eratosthenes algorithm to find all prime numbers up to a specified limit\n",
    "\n",
    "L = []\n",
    "nmax = 30\n",
    "\n",
    "for n in range(2, nmax):\n",
    "    for factor in L:\n",
    "        if n % factor == 0:\n",
    "            break\n",
    "    else: # no break\n",
    "        L.append(n)\n",
    "print(L)"
   ]
  },
  {
   "cell_type": "markdown",
   "id": "7afe5ef5",
   "metadata": {},
   "source": [
    "- The else statement only executes if none of the factors divide the given number. The else statement works similarly with the while loop."
   ]
  }
 ],
 "metadata": {
  "kernelspec": {
   "display_name": "Python 3",
   "language": "python",
   "name": "python3"
  },
  "language_info": {
   "codemirror_mode": {
    "name": "ipython",
    "version": 3
   },
   "file_extension": ".py",
   "mimetype": "text/x-python",
   "name": "python",
   "nbconvert_exporter": "python",
   "pygments_lexer": "ipython3",
   "version": "3.12.1"
  }
 },
 "nbformat": 4,
 "nbformat_minor": 5
}
