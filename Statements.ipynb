{
 "cells": [
  {
   "cell_type": "markdown",
   "id": "da64ab67",
   "metadata": {},
   "source": [
    "# If/Else Statements"
   ]
  },
  {
   "cell_type": "markdown",
   "id": "0e3971fd",
   "metadata": {},
   "source": [
    "- The simplest kind of flow control in Python is if statements. With a simple if statement, you can decide if the next block of code, specifically everything indented after the if statement, will run or not.\n",
    "- Using else statements, you can run another block if the preceding if statement did not run its block of code. An else statement is better than using another if statement with the opposite condition (e.g. not (if condition)) in the following ways:\n",
    "    - An else statement is more concise. There is less code to write. You can immediately see that the block after the else will not run if the previous if blocks ran.\n",
    "    - The condition expression does not need to be evaluated again. This may save a lot of time if the condition is expensive. It also avoids other issues, such as checking if the condition has side effects or if checking the condition twice in a row gives different results.\n",
    "    - The condition may have been changed by the block after the if condition. For example, if the code sounded like “if there is an error, fix the error, else do something else.” In that case, both the if block and the else block might run. "
   ]
  },
  {
   "cell_type": "code",
   "execution_count": 1,
   "id": "894e8cbd",
   "metadata": {},
   "outputs": [
    {
     "ename": "NameError",
     "evalue": "name 'really_expensive_problem_check' is not defined",
     "output_type": "error",
     "traceback": [
      "\u001b[31m---------------------------------------------------------------------------\u001b[39m",
      "\u001b[31mNameError\u001b[39m                                 Traceback (most recent call last)",
      "\u001b[36mCell\u001b[39m\u001b[36m \u001b[39m\u001b[32mIn[1]\u001b[39m\u001b[32m, line 3\u001b[39m\n\u001b[32m      1\u001b[39m \u001b[38;5;66;03m# bad version\u001b[39;00m\n\u001b[32m----> \u001b[39m\u001b[32m3\u001b[39m \u001b[38;5;28;01mif\u001b[39;00m \u001b[43mreally_expensive_problem_check\u001b[49m():\n\u001b[32m      4\u001b[39m    take_care_of_problem()\n\u001b[32m      5\u001b[39m \u001b[38;5;28;01mif\u001b[39;00m \u001b[38;5;129;01mnot\u001b[39;00m really_expensive_problem_check(): \u001b[38;5;66;03m# wasting time\u001b[39;00m\n",
      "\u001b[31mNameError\u001b[39m: name 'really_expensive_problem_check' is not defined"
     ]
    }
   ],
   "source": [
    "# bad version\n",
    " \n",
    "if really_expensive_problem_check():\n",
    "   take_care_of_problem()\n",
    "if not really_expensive_problem_check(): # wasting time\n",
    "   print(\"no problems were found\") # this might be a lie\n",
    " \n",
    "# good version\n",
    " \n",
    "if really_expensive_problem_check():\n",
    "   take_care_of_problem()\n",
    "else:\n",
    "   print(\"no problems were found\")\n"
   ]
  },
  {
   "cell_type": "markdown",
   "id": "37730799",
   "metadata": {},
   "source": [
    "- When you write if/elif/…/else statements, you are saying, run the block after the first of these conditions that match"
   ]
  },
  {
   "cell_type": "code",
   "execution_count": 4,
   "id": "1bc65c32",
   "metadata": {},
   "outputs": [],
   "source": [
    "import math\n",
    " \n",
    "def describe_number(x):\n",
    "   if math.isinf(x):\n",
    "       print(f\"{x} is infinite\")\n",
    "   elif isinstance(x, float): # check if x is a floating point number\n",
    "       print(f\"{x} is a float\")\n",
    "   elif isinstance(x, int): # check if x is an integer\n",
    "       if x % 2 == 0: # x remainder two #You could make a new if statement inside the else block, but that results in increasing layers of indentation as you nest the if statements\n",
    "           print(f\"{x} is an even integer\")\n",
    "       else:\n",
    "           print(f\"{x} is an odd integer\")\n",
    "   else:\n",
    "       print(f\"{x} is not a number?\") "
   ]
  },
  {
   "cell_type": "code",
   "execution_count": 6,
   "id": "d337f4bf",
   "metadata": {},
   "outputs": [
    {
     "name": "stdout",
     "output_type": "stream",
     "text": [
      "3.0 is a float\n"
     ]
    }
   ],
   "source": [
    "describe_number(3.0)"
   ]
  },
  {
   "cell_type": "code",
   "execution_count": 7,
   "id": "e13f5388",
   "metadata": {},
   "outputs": [
    {
     "name": "stdout",
     "output_type": "stream",
     "text": [
      "3 is an odd integer\n"
     ]
    }
   ],
   "source": [
    "describe_number(3)"
   ]
  },
  {
   "cell_type": "code",
   "execution_count": 8,
   "id": "c72d80be",
   "metadata": {},
   "outputs": [
    {
     "name": "stdout",
     "output_type": "stream",
     "text": [
      "0 is an even integer\n"
     ]
    }
   ],
   "source": [
    "describe_number(0)"
   ]
  },
  {
   "cell_type": "code",
   "execution_count": 9,
   "id": "47e00fc2",
   "metadata": {},
   "outputs": [],
   "source": [
    "def describe_number_flattened(x):\n",
    "   if math.isinf(x):\n",
    "       print(f\"{x} is infinite\")\n",
    "   elif isinstance(x, float): # check if x is a floating point number\n",
    "       print(f\"{x} is a float\")\n",
    "   elif isinstance(x, int) and x % 2 == 0: # check if x is an even integer\n",
    "       print(f\"{x} is an even integer\")\n",
    "   elif isinstance(x, int): # check if x is an integer\n",
    "       # must be odd, since even integers were previously checked.\n",
    "       print(f\"{x} is an odd integer\")\n",
    "   else:\n",
    "       print(f\"{x} is not a number?\")"
   ]
  }
 ],
 "metadata": {
  "kernelspec": {
   "display_name": "Python 3",
   "language": "python",
   "name": "python3"
  },
  "language_info": {
   "codemirror_mode": {
    "name": "ipython",
    "version": 3
   },
   "file_extension": ".py",
   "mimetype": "text/x-python",
   "name": "python",
   "nbconvert_exporter": "python",
   "pygments_lexer": "ipython3",
   "version": "3.12.1"
  }
 },
 "nbformat": 4,
 "nbformat_minor": 5
}
